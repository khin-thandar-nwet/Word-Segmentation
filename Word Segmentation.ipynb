{
 "cells": [
  {
   "cell_type": "markdown",
   "metadata": {},
   "source": [
    "## Word Segmentation"
   ]
  },
  {
   "cell_type": "markdown",
   "metadata": {},
   "source": [
    "Sylbreak"
   ]
  },
  {
   "cell_type": "code",
   "execution_count": 1,
   "metadata": {},
   "outputs": [
    {
     "data": {
      "text/plain": [
       "' ထည့် သွင်း ထား သည့် ရုပ် တု'"
      ]
     },
     "execution_count": 1,
     "metadata": {},
     "output_type": "execute_result"
    }
   ],
   "source": [
    "# Regular Expression Python Library \n",
    "import re\n",
    "\n",
    "\n",
    "myConsonant = \"က-အ\"\n",
    "enChar = \"a-zA-Z0-9\"\n",
    "otherChar = \"ဣဤဥဦဧဩဪဿ၌၍၏၀-၉၊။!-/:-@[-`{-~\\s\"\n",
    "ssSymbol = '္'\n",
    "ngaThat = 'င်'\n",
    "aThat = '်'\n",
    "\n",
    "# Regular expression pattern for Myanmar syllable breaking\n",
    "# *** a consonant not after a subscript symbol AND \n",
    "# a consonant is not followed by a-That character or a subscript symbol\n",
    "\n",
    "BreakPattern = re.compile(r\"((?<!\" + ssSymbol + r\")[\"+ myConsonant + r\"](?![\" + aThat + ssSymbol + r\"])\" + r\"|[\" + enChar + otherChar + r\"])\", re.UNICODE)\n",
    "\n",
    "# sylbreak \n",
    "def sylbreak(line):\n",
    "       line = re.sub(r\"\\s+\",\"\", line)\n",
    "       line = BreakPattern.sub(r\" \" + r\"\\1\", line)\n",
    "       return line\n",
    "sylbreak(\"ထည့်သွင်းထားသည့်ရုပ်တု\")"
   ]
  },
  {
   "cell_type": "code",
   "execution_count": 3,
   "metadata": {},
   "outputs": [
    {
     "name": "stdout",
     "output_type": "stream",
     "text": [
      "['ထည့်', 'သွင်း', 'ထား', 'သည့်', 'ရုပ်', 'တု']\n",
      "ထည့်သွင်း ထား သည့် ရုပ်တု \n"
     ]
    }
   ],
   "source": [
    "#wordlist\n",
    "D = ['ထည့်သွင်း', 'ထား', 'သည့်', 'စာလုံး','အတွက်','အဆင်ပြေ', 'ကျောင်းသား', 'ကျောင်း', 'ကျောင်းသူ', 'ရုပ်တု']\n",
    "mmtext1=sylbreak(\"ထည့်သွင်းထားသည့်ရုပ်တု\")\n",
    "mmtext=mmtext1.split()\n",
    "print(mmtext)\n",
    "def max_match(sentence, dictionary):\n",
    "    if not sentence:\n",
    "        return \"\"\n",
    "    for i in range(len(sentence), -1, -1):\n",
    "        first_word = sentence[:i]\n",
    "        first_word=''.join(first_word)\n",
    "        \n",
    "        remainder = sentence[i:]\n",
    "        remainder=''.join(remainder)\n",
    "        \n",
    "        if first_word in dictionary:\n",
    "            \n",
    "            return first_word + \" \" + max_match(remainder, dictionary)\n",
    "    first_word = sentence[0]\n",
    "    #print(first_word, len(sentence))\n",
    "    remainder = sentence[1:]\n",
    "   # print(remainder)\n",
    "    return first_word + max_match(remainder, dictionary)\n",
    "\n",
    "print(max_match(mmtext, D))"
   ]
  },
  {
   "cell_type": "code",
   "execution_count": 3,
   "metadata": {},
   "outputs": [],
   "source": [
    "def max_match(sentence, dictionary):\n",
    "    if not sentence:\n",
    "        return \"\"\n",
    "    for i in range(len(sentence), -1, -1):\n",
    "        first_word = sentence[:i]\n",
    "        first_word=''.join(first_word)\n",
    "        \n",
    "        remainder = sentence[i:]\n",
    "        remainder=''.join(remainder)\n",
    "        \n",
    "        if first_word in dictionary:\n",
    "            \n",
    "            return first_word + \" \" + max_match(remainder, dictionary)\n",
    "    first_word = sentence[0]\n",
    "    #print(first_word, len(sentence))\n",
    "    remainder = sentence[1:]\n",
    "   # print(remainder)\n",
    "    return first_word + max_match(remainder, dictionary)"
   ]
  },
  {
   "cell_type": "code",
   "execution_count": 6,
   "metadata": {},
   "outputs": [
    {
     "name": "stdout",
     "output_type": "stream",
     "text": [
      "ထည့်သွင်း ထား သည့် ရုပ်တု \n"
     ]
    }
   ],
   "source": [
    "#MaxMatching\n",
    "D = ['ထည့်သွင်း', 'ထား', 'သည့်', 'စာလုံး','အတွက်','အဆင်ပြေ', 'ကျောင်းသား', 'ကျောင်း', 'ကျောင်းသူ', 'ရုပ်တု']\n",
    "mmtext1=sylbreak(\"ထည့်သွင်းထားသည့်ရုပ်တု\")\n",
    "mmtext=mmtext1.split()\n",
    "print(max_match(mmtext, D))"
   ]
  },
  {
   "cell_type": "code",
   "execution_count": null,
   "metadata": {},
   "outputs": [],
   "source": []
  }
 ],
 "metadata": {
  "kernelspec": {
   "display_name": "Python 3",
   "language": "python",
   "name": "python3"
  },
  "language_info": {
   "codemirror_mode": {
    "name": "ipython",
    "version": 3
   },
   "file_extension": ".py",
   "mimetype": "text/x-python",
   "name": "python",
   "nbconvert_exporter": "python",
   "pygments_lexer": "ipython3",
   "version": "3.7.4"
  }
 },
 "nbformat": 4,
 "nbformat_minor": 2
}
